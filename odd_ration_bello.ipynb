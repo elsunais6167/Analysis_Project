{
 "cells": [
  {
   "cell_type": "code",
   "execution_count": 1,
   "metadata": {},
   "outputs": [],
   "source": [
    "import numpy as np\n",
    "from scipy.stats import fisher_exact, norm"
   ]
  },
  {
   "cell_type": "code",
   "execution_count": 2,
   "metadata": {},
   "outputs": [],
   "source": [
    "def calc_odds_ratio(a, b, c, d):\n",
    "    odds_ratio = (a * d) / (b * c)\n",
    "    p_value = fisher_exact([[a, b], [c, d]])[1]\n",
    "    se = np.sqrt(1/a + 1/b + 1/c + 1/d)\n",
    "    z = np.log(odds_ratio) / se\n",
    "    confint = np.exp(norm.ppf(0.025) * se), np.exp(norm.ppf(0.975) * se)\n",
    "    return odds_ratio, p_value, confint"
   ]
  },
  {
   "cell_type": "code",
   "execution_count": 5,
   "metadata": {},
   "outputs": [
    {
     "name": "stdout",
     "output_type": "stream",
     "text": [
      "The Fisher's Exact Associatio for Parent's Occupation = \n",
      "Odds ratio:  2.800\n",
      "P-value:  8.332e-03\n",
      "confint_lower 0.458\n",
      "confint_upper 2.183\n"
     ]
    }
   ],
   "source": [
    "#Parent's Occupation\n",
    "famers_P = 35\n",
    "famers_B = 75\n",
    "civil_P = 10\n",
    "civil_N = 60\n",
    "\n",
    "odds_ratio, p_value, confint = calc_odds_ratio(famers_P, famers_B, civil_P, civil_N) \n",
    "\n",
    "print(\"The Fisher's Exact Associatio for Parent's Occupation = \")\n",
    "print(\"Odds ratio: \", \"{:.3f}\".format(odds_ratio))\n",
    "print(\"P-value: \", \"{:.3e}\".format(p_value))\n",
    "print(\"confint_lower\", \"{:.3f}\".format(confint[0]))\n",
    "print(\"confint_upper\", \"{:.3f}\".format(confint[1]))"
   ]
  },
  {
   "cell_type": "code",
   "execution_count": 7,
   "metadata": {},
   "outputs": [
    {
     "name": "stdout",
     "output_type": "stream",
     "text": [
      "The Fisher's Exact Associatio for Water Activities = \n",
      "Odds ratio:  3.869\n",
      "P-value:  1.570e-03\n",
      "confint_lower 0.436\n",
      "confint_upper 2.293\n"
     ]
    }
   ],
   "source": [
    "#Water Activities\n",
    "bathing_P = 25\n",
    "bathing_B = 42\n",
    "washing_P = 10\n",
    "washing_N = 65\n",
    "\n",
    "odds_ratio, p_value, confint = calc_odds_ratio(bathing_P, bathing_B, washing_P, washing_N) \n",
    "\n",
    "print(\"The Fisher's Exact Associatio for Water Activities = \")\n",
    "print(\"Odds ratio: \", \"{:.3f}\".format(odds_ratio))\n",
    "print(\"P-value: \", \"{:.3e}\".format(p_value))\n",
    "print(\"confint_lower\", \"{:.3f}\".format(confint[0]))\n",
    "print(\"confint_upper\", \"{:.3f}\".format(confint[1]))"
   ]
  },
  {
   "cell_type": "code",
   "execution_count": 8,
   "metadata": {},
   "outputs": [
    {
     "name": "stdout",
     "output_type": "stream",
     "text": [
      "The Fisher's Exact Associatio for Water Supply = \n",
      "Odds ratio:  0.450\n",
      "P-value:  6.608e-02\n",
      "confint_lower 0.446\n",
      "confint_upper 2.244\n"
     ]
    }
   ],
   "source": [
    "#Water Supply\n",
    "well_P = 30\n",
    "well_B = 50\n",
    "pond_P = 20\n",
    "pond_N = 15\n",
    "\n",
    "odds_ratio, p_value, confint = calc_odds_ratio(well_P, well_B, pond_P, pond_N) \n",
    "\n",
    "print(\"The Fisher's Exact Associatio for Water Supply = \")\n",
    "print(\"Odds ratio: \", \"{:.3f}\".format(odds_ratio))\n",
    "print(\"P-value: \", \"{:.3e}\".format(p_value))\n",
    "print(\"confint_lower\", \"{:.3f}\".format(confint[0]))\n",
    "print(\"confint_upper\", \"{:.3f}\".format(confint[1]))"
   ]
  },
  {
   "cell_type": "code",
   "execution_count": 9,
   "metadata": {},
   "outputs": [
    {
     "name": "stdout",
     "output_type": "stream",
     "text": [
      "The Fisher's Exact Associatio for Environmental Sanitation = \n",
      "Odds ratio:  1.750\n",
      "P-value:  4.296e-01\n",
      "confint_lower 0.352\n",
      "confint_upper 2.842\n"
     ]
    }
   ],
   "source": [
    "#Environmental Sanitation\n",
    "open_Defacation_P = 20\n",
    "open_DefacationB = 16\n",
    "poor_sanitation_P = 10\n",
    "poor_sanitation_N = 14\n",
    "\n",
    "odds_ratio, p_value, confint = calc_odds_ratio(open_Defacation_P, open_DefacationB, poor_sanitation_P, poor_sanitation_N) \n",
    "\n",
    "print(\"The Fisher's Exact Associatio for Environmental Sanitation = \")\n",
    "print(\"Odds ratio: \", \"{:.3f}\".format(odds_ratio))\n",
    "print(\"P-value: \", \"{:.3e}\".format(p_value))\n",
    "print(\"confint_lower\", \"{:.3f}\".format(confint[0]))\n",
    "print(\"confint_upper\", \"{:.3f}\".format(confint[1]))"
   ]
  },
  {
   "cell_type": "markdown",
   "metadata": {},
   "source": [
    "**Interpretations** <br>\n",
    "<br>\n",
    "The Fisher's exact association test for parent's occupation yielded an odds ratio of 2.800, indicating that the odds of a positive outcome among individuals with parents in farming occupations are approximately 2.8 times higher than those with parents in other occupations. The p-value of 8.332e-03 suggests that this association is statistically significant, providing evidence against the null hypothesis of no association. The 95% confidence interval for the odds ratio ranges from 0.458 to 2.183, indicating the range within which we can be reasonably confident that the true odds ratio lies.\n",
    "<br>\n",
    "<br>\n",
    "For water activities, the odds ratio is 3.869, indicating that the odds of a positive outcome for individuals engaged in bathing activities are about 3.9 times higher than those involved in washing activities. The p-value is 1.570e-03, signifying a statistically significant association. The 95% confidence interval for the odds ratio ranges from 0.436 to 2.293, providing a range of plausible values for the true odds ratio.\n",
    "<br>\n",
    "<br>\n",
    "The Fisher's exact association test for water supply reveals an odds ratio of 0.450, suggesting that the odds of a positive outcome associated with well water are 0.45 times the odds associated with pond water. However, the p-value of 6.608e-02 is greather of 0.05, indicating that the association is not statistically significant.\n",
    "<br>\n",
    "<br>\n",
    "The odds ratio for environmental sanitation is 1.750, implying that the odds of a positive outcome for individuals practicing open defecation are 1.75 times higher than those with poor sanitation practices. However, the p-value of 4.296e-01 is greater than 0.05, suggesting that this association is not statistically significant. The 95% confidence interval for the odds ratio ranges from 0.352 to 2.842."
   ]
  }
 ],
 "metadata": {
  "kernelspec": {
   "display_name": "Python 3",
   "language": "python",
   "name": "python3"
  },
  "language_info": {
   "codemirror_mode": {
    "name": "ipython",
    "version": 3
   },
   "file_extension": ".py",
   "mimetype": "text/x-python",
   "name": "python",
   "nbconvert_exporter": "python",
   "pygments_lexer": "ipython3",
   "version": "3.11.5"
  }
 },
 "nbformat": 4,
 "nbformat_minor": 2
}
